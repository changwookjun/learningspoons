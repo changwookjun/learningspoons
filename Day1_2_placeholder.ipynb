{
 "cells": [
  {
   "cell_type": "markdown",
   "metadata": {
    "colab_type": "text",
    "id": "aQ8_Dhi9XId1"
   },
   "source": [
    "# placeholder  구현 하기"
   ]
  },
  {
   "cell_type": "markdown",
   "metadata": {
    "colab_type": "text",
    "id": "rB8DvIZuXeBh"
   },
   "source": [
    "### 긍정/부정 Make data (긍정: 1, 부정: 0)\n",
    "\n",
    "---\n",
    "\n"
   ]
  },
  {
   "cell_type": "code",
   "execution_count": 0,
   "metadata": {
    "colab": {},
    "colab_type": "code",
    "id": "1KaV7-g_sUxD"
   },
   "outputs": [],
   "source": [
    "sample = ['너 오늘 이뻐 보인다',\n",
    "          '나는 오늘 기분이 더러워',\n",
    "          '끝내주는데, 좋은 일이 있나봐',\n",
    "          '나 좋은 일이 생겼어',\n",
    "          '아 오늘 진짜 짜증나',\n",
    "          '환상적인데, 정말 좋은거 같아']\n",
    "\n",
    "label =[[1], [0], [1], [1], [0], [1]]"
   ]
  },
  {
   "cell_type": "markdown",
   "metadata": {
    "colab_type": "text",
    "id": "avcrNuViXphK"
   },
   "source": [
    "### load need modules"
   ]
  },
  {
   "cell_type": "code",
   "execution_count": 0,
   "metadata": {
    "colab": {},
    "colab_type": "code",
    "id": "BOg4fPGasi6o"
   },
   "outputs": [],
   "source": [
    "import os\n",
    "import tensorflow as tf\n",
    "import numpy as np\n",
    "\n",
    "from tensorflow.keras import preprocessing"
   ]
  },
  {
   "cell_type": "markdown",
   "metadata": {
    "colab_type": "text",
    "id": "OVtVn1D0Xsq5"
   },
   "source": [
    "### Data Preprocessing"
   ]
  },
  {
   "cell_type": "code",
   "execution_count": 0,
   "metadata": {
    "colab": {
     "base_uri": "https://localhost:8080/",
     "height": 71
    },
    "colab_type": "code",
    "executionInfo": {
     "elapsed": 951,
     "status": "ok",
     "timestamp": 1559185277458,
     "user": {
      "displayName": "ChangWook Jun",
      "photoUrl": "https://lh6.googleusercontent.com/-NHLAhAbNfPg/AAAAAAAAAAI/AAAAAAAAAEc/NDLQ8z7-qns/s64/photo.jpg",
      "userId": "00685987924881157185"
     },
     "user_tz": -540
    },
    "id": "Uc1BvbDosk5n",
    "outputId": "a6906639-5f9d-45b5-94bd-34cc2fd26962"
   },
   "outputs": [
    {
     "name": "stdout",
     "output_type": "stream",
     "text": [
      "index text data : \n",
      " [[4, 1, 5, 6], [7, 1, 8, 9], [10, 2, 3, 11], [12, 2, 3, 13], [14, 1, 15, 16], [17, 18, 19, 20]]\n",
      "(6, 4)\n"
     ]
    }
   ],
   "source": [
    "tokenizer = preprocessing.text.Tokenizer() \n",
    "tokenizer.fit_on_texts(sample) \n",
    "sequence = tokenizer.texts_to_sequences(sample) \n",
    "\n",
    "print(\"index text data : \\n\", sequence)\n",
    "print(np.array(sequence).shape)"
   ]
  },
  {
   "cell_type": "code",
   "execution_count": 0,
   "metadata": {
    "colab": {
     "base_uri": "https://localhost:8080/",
     "height": 53
    },
    "colab_type": "code",
    "executionInfo": {
     "elapsed": 512,
     "status": "ok",
     "timestamp": 1559185277462,
     "user": {
      "displayName": "ChangWook Jun",
      "photoUrl": "https://lh6.googleusercontent.com/-NHLAhAbNfPg/AAAAAAAAAAI/AAAAAAAAAEc/NDLQ8z7-qns/s64/photo.jpg",
      "userId": "00685987924881157185"
     },
     "user_tz": -540
    },
    "id": "e6mqFlRmsmx2",
    "outputId": "f2560b18-2a86-4b86-e841-95809095039f"
   },
   "outputs": [
    {
     "name": "stdout",
     "output_type": "stream",
     "text": [
      "index of each word : \n",
      " {'오늘': 1, '좋은': 2, '일이': 3, '너': 4, '이뻐': 5, '보인다': 6, '나는': 7, '기분이': 8, '더러워': 9, '끝내주는데': 10, '있나봐': 11, '나': 12, '생겼어': 13, '아': 14, '진짜': 15, '짜증나': 16, '환상적인데': 17, '정말': 18, '좋은거': 19, '같아': 20}\n"
     ]
    }
   ],
   "source": [
    "word_index = tokenizer.word_index\n",
    "\n",
    "print(\"index of each word : \\n\", word_index)"
   ]
  },
  {
   "cell_type": "code",
   "execution_count": 0,
   "metadata": {
    "colab": {
     "base_uri": "https://localhost:8080/",
     "height": 53
    },
    "colab_type": "code",
    "executionInfo": {
     "elapsed": 460,
     "status": "ok",
     "timestamp": 1559185277796,
     "user": {
      "displayName": "ChangWook Jun",
      "photoUrl": "https://lh6.googleusercontent.com/-NHLAhAbNfPg/AAAAAAAAAAI/AAAAAAAAAEc/NDLQ8z7-qns/s64/photo.jpg",
      "userId": "00685987924881157185"
     },
     "user_tz": -540
    },
    "id": "exaWwfOaswHt",
    "outputId": "3c787bcd-b5b7-4e62-b3bf-f715e38f44d9"
   },
   "outputs": [
    {
     "name": "stdout",
     "output_type": "stream",
     "text": [
      "label :  [[1], [0], [1], [1], [0], [1]]\n",
      "(6, 1)\n"
     ]
    }
   ],
   "source": [
    "print(\"label : \", label)\n",
    "print(np.array(label).shape) # np 지원 api shape"
   ]
  },
  {
   "cell_type": "markdown",
   "metadata": {
    "colab_type": "text",
    "id": "nGaCIz-oXxrb"
   },
   "source": [
    "### feed_dict data processing\n",
    "<b> 장점 : TensorFlow 외부에서 데이터 처리를 수행하여 Python으로 쉽게 처리 할 수 있다.  \n",
    "<b> 단점 : 사용자는 종종 단일 스레드에서 데이터를 처리하고 실행 속도를 저하시키는 데이터 병목 현상을 만든다."
   ]
  },
  {
   "cell_type": "markdown",
   "metadata": {
    "colab_type": "text",
    "id": "L3sR9ltXX0XF"
   },
   "source": [
    "### placeholder define"
   ]
  },
  {
   "cell_type": "code",
   "execution_count": 0,
   "metadata": {
    "colab": {},
    "colab_type": "code",
    "id": "bKHZmNHXsxwt"
   },
   "outputs": [],
   "source": [
    "sequences = tf.placeholder(dtype=tf.int32, shape=[None, 4], name='sequences') # 길이가 최대 \n",
    "labels = tf.placeholder(dtype=tf.int32, shape=[None,1], name='labels')"
   ]
  },
  {
   "cell_type": "markdown",
   "metadata": {
    "colab_type": "text",
    "id": "Pae7qGoYX39H"
   },
   "source": [
    "### operation define"
   ]
  },
  {
   "cell_type": "code",
   "execution_count": 0,
   "metadata": {
    "colab": {},
    "colab_type": "code",
    "id": "xN9pG8Rts5FK"
   },
   "outputs": [],
   "source": [
    "print_op_sequence = tf.Print(sequences, [sequences])\n",
    "print_op_labels = tf.Print(labels, [labels])"
   ]
  },
  {
   "cell_type": "markdown",
   "metadata": {
    "colab_type": "text",
    "id": "bst9d1gPYAu4"
   },
   "source": [
    "### Session run\n",
    "\n"
   ]
  },
  {
   "cell_type": "code",
   "execution_count": 0,
   "metadata": {
    "colab": {
     "base_uri": "https://localhost:8080/",
     "height": 269
    },
    "colab_type": "code",
    "executionInfo": {
     "elapsed": 571,
     "status": "ok",
     "timestamp": 1559185283643,
     "user": {
      "displayName": "ChangWook Jun",
      "photoUrl": "https://lh6.googleusercontent.com/-NHLAhAbNfPg/AAAAAAAAAAI/AAAAAAAAAEc/NDLQ8z7-qns/s64/photo.jpg",
      "userId": "00685987924881157185"
     },
     "user_tz": -540
    },
    "id": "14RhMcOzuESy",
    "outputId": "5c32524e-91f4-4751-fcd9-f98179c3331d"
   },
   "outputs": [
    {
     "name": "stdout",
     "output_type": "stream",
     "text": [
      "print sequences : \n",
      "[[ 4  1  5  6]\n",
      " [ 7  1  8  9]\n",
      " [10  2  3 11]\n",
      " [12  2  3 13]\n",
      " [14  1 15 16]\n",
      " [17 18 19 20]]\n",
      "print labels : \n",
      "[[1]\n",
      " [0]\n",
      " [1]\n",
      " [1]\n",
      " [0]\n",
      " [1]]\n"
     ]
    }
   ],
   "source": [
    "with tf.Session() as sess:\n",
    "  print(\"print sequences : \")\n",
    "  print(sess.run(print_op_sequence, feed_dict={sequences: sequence}))\n",
    "  print(\"print labels : \")\n",
    "  print(sess.run(print_op_labels, feed_dict={labels: label}))"
   ]
  },
  {
   "cell_type": "markdown",
   "metadata": {
    "colab_type": "text",
    "id": "z9mZLLfK6bJb"
   },
   "source": [
    "### shuffle data"
   ]
  },
  {
   "cell_type": "code",
   "execution_count": 0,
   "metadata": {
    "colab": {
     "base_uri": "https://localhost:8080/",
     "height": 261
    },
    "colab_type": "code",
    "executionInfo": {
     "elapsed": 852,
     "status": "ok",
     "timestamp": 1556427747979,
     "user": {
      "displayName": "ChangWook Jun",
      "photoUrl": "https://lh6.googleusercontent.com/-NHLAhAbNfPg/AAAAAAAAAAI/AAAAAAAAAEc/NDLQ8z7-qns/s64/photo.jpg",
      "userId": "00685987924881157185"
     },
     "user_tz": -540
    },
    "id": "-1NXaEDI6fjt",
    "outputId": "f88a4e6d-fb9b-48f5-a29b-5ea3e149682d"
   },
   "outputs": [
    {
     "name": "stdout",
     "output_type": "stream",
     "text": [
      "[5 3 0 1 4 2]\n",
      "Print sequences : \n",
      "[[17 18 19 20]\n",
      " [12  2  3 13]\n",
      " [ 4  1  5  6]\n",
      " [ 7  1  8  9]\n",
      " [14  1 15 16]\n",
      " [10  2  3 11]]\n",
      "Print labels : \n",
      "[[1]\n",
      " [1]\n",
      " [1]\n",
      " [0]\n",
      " [0]\n",
      " [1]]\n"
     ]
    }
   ],
   "source": [
    "shuffle_sequence = []\n",
    "shuffle_label = []\n",
    "#############################################################\n",
    "# random index를 만들어 낸다.\n",
    "#############################################################\n",
    "print(random_index)\n",
    "\n",
    "#############################################################\n",
    "# random index를 기반으로 shuffle sequence 와  \n",
    "# shuffle label를 만든다. \n",
    "#############################################################\n",
    "with tf.Session() as sess:\n",
    "  print(\"Print sequences : \")\n",
    "  print(sess.run(print_op_sequence, feed_dict={sequences: shuffle_sequence}))\n",
    "  print(\"Print labels : \")\n",
    "  print(sess.run(print_op_labels, feed_dict={labels: shuffle_label}))"
   ]
  },
  {
   "cell_type": "markdown",
   "metadata": {
    "colab_type": "text",
    "id": "gNblO2xaPaKg"
   },
   "source": [
    "### make batch & 3 step"
   ]
  },
  {
   "cell_type": "code",
   "execution_count": 0,
   "metadata": {
    "colab": {
     "base_uri": "https://localhost:8080/",
     "height": 341
    },
    "colab_type": "code",
    "executionInfo": {
     "elapsed": 828,
     "status": "ok",
     "timestamp": 1559190684860,
     "user": {
      "displayName": "ChangWook Jun",
      "photoUrl": "https://lh6.googleusercontent.com/-NHLAhAbNfPg/AAAAAAAAAAI/AAAAAAAAAEc/NDLQ8z7-qns/s64/photo.jpg",
      "userId": "00685987924881157185"
     },
     "user_tz": -540
    },
    "id": "0Q-twkfIPjW1",
    "outputId": "11925643-14ba-49ff-b770-a840efb27e73"
   },
   "outputs": [
    {
     "name": "stdout",
     "output_type": "stream",
     "text": [
      "Print sequences : \n",
      "[[12  2  3 13]\n",
      " [ 7  1  8  9]]\n",
      "Print labels : \n",
      "[[1]\n",
      " [0]]\n",
      "Print sequences : \n",
      "[[10  2  3 11]\n",
      " [17 18 19 20]]\n",
      "Print labels : \n",
      "[[1]\n",
      " [1]]\n",
      "Print sequences : \n",
      "[[14  1 15 16]\n",
      " [ 4  1  5  6]]\n",
      "Print labels : \n",
      "[[0]\n",
      " [1]]\n"
     ]
    }
   ],
   "source": [
    "BATCH_SIZE = 2\n",
    "\n",
    "shuffle_sequence = []\n",
    "shuffle_label = []\n",
    "index = 0\n",
    "\n",
    "random_index = np.random.choice(range(len(sequence)), len(sequence), replace=False)\n",
    "#############################################################\n",
    "# batch size를 define되어 있는 값으로 만들어서   \n",
    "# 모든 데이터를 1epoch하도록 처리 한다.\n",
    "# 위와 다른점은 배치 크기만큼 한 step씩 3번에 하도록 만든다.\n",
    "#############################################################"
   ]
  },
  {
   "cell_type": "markdown",
   "metadata": {
    "colab_type": "text",
    "id": "q8g7nqTG6U1Z"
   },
   "source": [
    "###  2 epoch"
   ]
  },
  {
   "cell_type": "code",
   "execution_count": 0,
   "metadata": {
    "colab": {
     "base_uri": "https://localhost:8080/",
     "height": 665
    },
    "colab_type": "code",
    "executionInfo": {
     "elapsed": 671,
     "status": "ok",
     "timestamp": 1559191623980,
     "user": {
      "displayName": "ChangWook Jun",
      "photoUrl": "https://lh6.googleusercontent.com/-NHLAhAbNfPg/AAAAAAAAAAI/AAAAAAAAAEc/NDLQ8z7-qns/s64/photo.jpg",
      "userId": "00685987924881157185"
     },
     "user_tz": -540
    },
    "id": "hFEBbkjQB_cs",
    "outputId": "21502518-3125-4b53-c461-bee5fedbe7f7"
   },
   "outputs": [
    {
     "name": "stdout",
     "output_type": "stream",
     "text": [
      "Print sequences : \n",
      "[[10  2  3 11]\n",
      " [12  2  3 13]]\n",
      "Print labels : \n",
      "[[1]\n",
      " [1]]\n",
      "Print sequences : \n",
      "[[ 7  1  8  9]\n",
      " [14  1 15 16]]\n",
      "Print labels : \n",
      "[[0]\n",
      " [0]]\n",
      "Print sequences : \n",
      "[[17 18 19 20]\n",
      " [ 4  1  5  6]]\n",
      "Print labels : \n",
      "[[1]\n",
      " [1]]\n",
      "Print sequences : \n",
      "[[10  2  3 11]\n",
      " [12  2  3 13]]\n",
      "Print labels : \n",
      "[[1]\n",
      " [1]]\n",
      "Print sequences : \n",
      "[[ 7  1  8  9]\n",
      " [14  1 15 16]]\n",
      "Print labels : \n",
      "[[0]\n",
      " [0]]\n",
      "Print sequences : \n",
      "[[17 18 19 20]\n",
      " [ 4  1  5  6]]\n",
      "Print labels : \n",
      "[[1]\n",
      " [1]]\n"
     ]
    }
   ],
   "source": [
    "EPOCH = 2\n",
    "BATCH_SIZE = 2\n",
    "\n",
    "shuffle_sequence = []\n",
    "shuffle_label = []\n",
    "index = 0\n",
    "\n",
    "random_index = np.random.choice(range(len(sequence)), len(sequence), replace=False)\n",
    "\n",
    "for j in range(EPOCH):\n",
    "  for i in random_index:\n",
    "    shuffle_sequence.append(sequence[i])\n",
    "    shuffle_label.append(label[i])\n",
    "    index += 1\n",
    "\n",
    "    if index==BATCH_SIZE:\n",
    "      with tf.Session() as sess:\n",
    "        print(\"Print sequences : \")\n",
    "        print(sess.run(print_op_sequence, feed_dict={sequences: shuffle_sequence}))\n",
    "        print(\"Print labels : \")\n",
    "        print(sess.run(print_op_labels, feed_dict={labels: shuffle_label}))\n",
    "        index = 0\n",
    "        shuffle_sequence.clear()\n",
    "        shuffle_label.clear()  "
   ]
  }
 ],
 "metadata": {
  "colab": {
   "collapsed_sections": [],
   "name": "Day1_2_placeholder",
   "provenance": [],
   "version": "0.3.2"
  },
  "kernelspec": {
   "display_name": "Python 3",
   "language": "python",
   "name": "python3"
  },
  "language_info": {
   "codemirror_mode": {
    "name": "ipython",
    "version": 3
   },
   "file_extension": ".py",
   "mimetype": "text/x-python",
   "name": "python",
   "nbconvert_exporter": "python",
   "pygments_lexer": "ipython3",
   "version": "3.6.8"
  }
 },
 "nbformat": 4,
 "nbformat_minor": 1
}
