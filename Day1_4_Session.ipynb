{
 "cells": [
  {
   "cell_type": "markdown",
   "metadata": {
    "colab_type": "text",
    "id": "qiXqB5sceNrC"
   },
   "source": [
    "# use session \n",
    "<b> session을 기본으로 하는 간단한 logistic regression을 만든다.  \n",
    "<b> source 설명 이후 실습을 진행한다.  "
   ]
  },
  {
   "cell_type": "code",
   "execution_count": 0,
   "metadata": {
    "colab": {},
    "colab_type": "code",
    "id": "5KtT9r76Payi"
   },
   "outputs": [],
   "source": [
    "sample = ['너 오늘 이뻐 보인다',\n",
    "          '나는 오늘 기분이 더러워',\n",
    "          '끝내주는데, 좋은 일이 있나봐',\n",
    "          '나 좋은 일이 생겼어',\n",
    "          '아 오늘 진짜 짜증나',\n",
    "          '환상적인데, 정말 좋은거 같아']\n",
    "\n",
    "label =[[1], [0], [1], [1], [0], [1]]"
   ]
  },
  {
   "cell_type": "code",
   "execution_count": 0,
   "metadata": {
    "colab": {},
    "colab_type": "code",
    "id": "IQZ0G4TXSBUr"
   },
   "outputs": [],
   "source": [
    "import os\n",
    "import tensorflow as tf\n",
    "import numpy as np\n",
    "\n",
    "from tensorflow.keras import preprocessing"
   ]
  },
  {
   "cell_type": "code",
   "execution_count": 0,
   "metadata": {
    "colab": {},
    "colab_type": "code",
    "id": "N3haV_wvSC7i"
   },
   "outputs": [],
   "source": [
    "# default 5000이고 Keras 데이터 사전 처리 유틸리티\n",
    "# Text tokenization utility class.\n",
    "tokenizer = preprocessing.text.Tokenizer() \n",
    "# Updates internal vocabulary based on a list of texts.\n",
    "tokenizer.fit_on_texts(sample) \n",
    "# Transforms each text in texts to a sequence of integers.\n",
    "sequence = tokenizer.texts_to_sequences(sample)\n",
    "#  Yields individual sequences.\n",
    "word_index = tokenizer.word_index"
   ]
  },
  {
   "cell_type": "code",
   "execution_count": 0,
   "metadata": {
    "colab": {},
    "colab_type": "code",
    "id": "C8BIwT2-SFap"
   },
   "outputs": [],
   "source": [
    "sequences = tf.placeholder(dtype=tf.int32, shape=[None, 4], name='sequences')\n",
    "labels = tf.placeholder(dtype=tf.int32, shape=[None,1], name='labels')"
   ]
  },
  {
   "cell_type": "code",
   "execution_count": 0,
   "metadata": {
    "colab": {},
    "colab_type": "code",
    "id": "nMxqXzghSLMF"
   },
   "outputs": [],
   "source": [
    "EPOCH_SIZE = 100\n",
    "BATCH_SIZE = 2\n",
    "\n",
    "VOCAB_SIZE = len(word_index) +1\n",
    "EMB_SIZE = 128\n",
    "\n",
    "\n",
    "# Embedding\n",
    "embed_input = tf.keras.layers.Embedding(VOCAB_SIZE, EMB_SIZE)(sequences)\n",
    "embed_input = tf.reduce_mean(embed_input, axis=-1)\n",
    "\n",
    "# Model\n",
    "hidden_layer = tf.keras.layers.Dense(128, activation=tf.nn.relu)(embed_input)\n",
    "output_layer = tf.keras.layers.Dense(1)(hidden_layer)\n",
    "output = tf.nn.sigmoid(output_layer)\n",
    "\n",
    "# # Loss\n",
    "loss = tf.losses.mean_squared_error(output, labels)\n",
    "\n",
    "# Optimizer\n",
    "train_op = tf.train.AdamOptimizer(1e-3).minimize(loss)\n"
   ]
  },
  {
   "cell_type": "code",
   "execution_count": 16,
   "metadata": {
    "colab": {
     "base_uri": "https://localhost:8080/",
     "height": 215
    },
    "colab_type": "code",
    "executionInfo": {
     "elapsed": 1437,
     "status": "ok",
     "timestamp": 1559199475534,
     "user": {
      "displayName": "ChangWook Jun",
      "photoUrl": "https://lh6.googleusercontent.com/-NHLAhAbNfPg/AAAAAAAAAAI/AAAAAAAAAEc/NDLQ8z7-qns/s64/photo.jpg",
      "userId": "00685987924881157185"
     },
     "user_tz": -540
    },
    "id": "JtfngFG_SOZl",
    "outputId": "b1137272-dad3-438b-ed7e-e57dfb09eccd"
   },
   "outputs": [
    {
     "name": "stdout",
     "output_type": "stream",
     "text": [
      "start time :  <built-in function time>\n",
      "10 0.24168819\n",
      "20 0.2312295\n",
      "30 0.21771352\n",
      "40 0.20026357\n",
      "50 0.1782195\n",
      "60 0.1512933\n",
      "70 0.11987124\n",
      "80 0.088398375\n",
      "90 0.06091896\n",
      "100 0.040000826\n"
     ]
    }
   ],
   "source": [
    "shuffle_sequence = []\n",
    "shuffle_label = []\n",
    "index = 0\n",
    "\n",
    "sess = tf.Session()\n",
    "print(\"start time : \", start_time)\n",
    "sess.run(tf.global_variables_initializer())\n",
    "\n",
    "\n",
    "for step in range(EPOCH_SIZE):\n",
    "  random_index = np.random.choice(range(len(sequence)), len(sequence), replace=False)\n",
    "  for i in random_index:\n",
    "    shuffle_sequence.append(sequence[i])\n",
    "    shuffle_label.append(label[i])\n",
    "    \n",
    "  sess.run(train_op, feed_dict={sequences: shuffle_sequence, labels: shuffle_label})\n",
    "  if (step+1) % 10 == 0:\n",
    "    print(step + 1, sess.run(loss, feed_dict={sequences: shuffle_sequence, labels: shuffle_label}))\n",
    "\n",
    "  shuffle_sequence.clear()\n",
    "  shuffle_label.clear()"
   ]
  }
 ],
 "metadata": {
  "colab": {
   "collapsed_sections": [],
   "name": "Day1_4_Session.ipynb",
   "provenance": [],
   "version": "0.3.2"
  },
  "kernelspec": {
   "display_name": "Python 3",
   "language": "python",
   "name": "python3"
  },
  "language_info": {
   "codemirror_mode": {
    "name": "ipython",
    "version": 3
   },
   "file_extension": ".py",
   "mimetype": "text/x-python",
   "name": "python",
   "nbconvert_exporter": "python",
   "pygments_lexer": "ipython3",
   "version": "3.6.8"
  }
 },
 "nbformat": 4,
 "nbformat_minor": 1
}
